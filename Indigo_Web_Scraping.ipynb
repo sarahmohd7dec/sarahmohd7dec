{
  "nbformat": 4,
  "nbformat_minor": 0,
  "metadata": {
    "colab": {
      "provenance": [],
      "authorship_tag": "ABX9TyOOVRYcLDBb22/5qiBPUY1B",
      "include_colab_link": true
    },
    "kernelspec": {
      "name": "python3",
      "display_name": "Python 3"
    },
    "language_info": {
      "name": "python"
    }
  },
  "cells": [
    {
      "cell_type": "markdown",
      "metadata": {
        "id": "view-in-github",
        "colab_type": "text"
      },
      "source": [
        "<a href=\"https://colab.research.google.com/github/sarahmohd7dec/sarahmohd7dec/blob/main/Indigo_Web_Scraping.ipynb\" target=\"_parent\"><img src=\"https://colab.research.google.com/assets/colab-badge.svg\" alt=\"Open In Colab\"/></a>"
      ]
    },
    {
      "cell_type": "code",
      "execution_count": 9,
      "metadata": {
        "colab": {
          "base_uri": "https://localhost:8080/"
        },
        "id": "0HhNlL2Cvos4",
        "outputId": "48ddbce7-4c50-4efd-995e-f2bbe34f6d67"
      },
      "outputs": [
        {
          "output_type": "stream",
          "name": "stdout",
          "text": [
            "Requirement already satisfied: pandas in /usr/local/lib/python3.10/dist-packages (1.5.3)\n",
            "Requirement already satisfied: python-dateutil>=2.8.1 in /usr/local/lib/python3.10/dist-packages (from pandas) (2.8.2)\n",
            "Requirement already satisfied: pytz>=2020.1 in /usr/local/lib/python3.10/dist-packages (from pandas) (2023.3.post1)\n",
            "Requirement already satisfied: numpy>=1.21.0 in /usr/local/lib/python3.10/dist-packages (from pandas) (1.23.5)\n",
            "Requirement already satisfied: six>=1.5 in /usr/local/lib/python3.10/dist-packages (from python-dateutil>=2.8.1->pandas) (1.16.0)\n"
          ]
        }
      ],
      "source": [
        "import requests\n",
        "from bs4 import BeautifulSoup\n",
        "!pip install pandas\n",
        "import pandas as pd\n",
        "from tabulate import tabulate\n",
        "\n",
        "url=requests.get(\"https://www.indigo.ca/en-ca/books/top-10-book-lists/\")\n"
      ]
    },
    {
      "cell_type": "code",
      "source": [
        "soup=BeautifulSoup(url.text,\"html.parser\")\n",
        "\n",
        "Topbooks= soup.find_all('div', {'class': 'tile-body trade-true'})\n",
        "authorlist=[]\n",
        "titlelist=[]\n",
        "pricelist=[]\n",
        "for x in Topbooks:\n",
        "   authors = x.find('a', {'class': 'tile-text-light label-4'}).text.strip()\n",
        "   authorlist.append(authors)\n",
        "   title = x.find('a', {'class': 'link secondary'}).get('data-home-product-title').strip()\n",
        "   titlelist.append(title)\n",
        "   price = x.find('span', {'class': 'value'}).get('content').strip()\n",
        "   pricelist.append(price)\n",
        "   all_data = [authorlist,titlelist,pricelist]\n",
        "\n",
        "df = pd.DataFrame(all_data)\n",
        "df1=df.transpose()\n",
        "keys=[\"Authors\",\"Titles\",\"Price\"]\n",
        "pdtabulate=lambda df1:tabulate(df1,headers=keys,tablefmt='grid')\n",
        "print(pdtabulate(df1))"
      ],
      "metadata": {
        "colab": {
          "base_uri": "https://localhost:8080/"
        },
        "id": "A2I_UH3avrut",
        "outputId": "33641a7f-30f0-4e3c-e8f0-66e5fbeb7ba6"
      },
      "execution_count": 86,
      "outputs": [
        {
          "output_type": "stream",
          "name": "stdout",
          "text": [
            "+----+-----------------------------------------+--------------------------------------------------------------------+---------+\n",
            "|    | Authors                                 | Titles                                                             |   Price |\n",
            "+====+=========================================+====================================================================+=========+\n",
            "|  0 | Lesley Crewe                            | Recipe for a Good Life (indigo exclusive edition)                  |   24.95 |\n",
            "+----+-----------------------------------------+--------------------------------------------------------------------+---------+\n",
            "|  1 | Peter Attia                             | Outlive: The Science And Art Of Longevity                          |   28.84 |\n",
            "+----+-----------------------------------------+--------------------------------------------------------------------+---------+\n",
            "|  2 | Ashley Audrain                          | The Whispers - Indigo Exclusive Edition: A Novel                   |   17.46 |\n",
            "+----+-----------------------------------------+--------------------------------------------------------------------+---------+\n",
            "|  3 | Michelle Good                           | Truth Telling: Seven Conversations About Indigenous Life in Canada |   29.99 |\n",
            "+----+-----------------------------------------+--------------------------------------------------------------------+---------+\n",
            "|  4 | Elliot Page                             | Pageboy: A Memoir                                                  |   36.99 |\n",
            "+----+-----------------------------------------+--------------------------------------------------------------------+---------+\n",
            "|  5 | Gabrielle Zevin                         | Tomorrow, And Tomorrow, And Tomorrow: A Novel                      |   20    |\n",
            "+----+-----------------------------------------+--------------------------------------------------------------------+---------+\n",
            "|  6 | Laura Nowlin                            | If He Had Been With Me                                             |   16.5  |\n",
            "+----+-----------------------------------------+--------------------------------------------------------------------+---------+\n",
            "|  7 | R. F Kuang                              | Yellowface: A Novel                                                |   17.49 |\n",
            "+----+-----------------------------------------+--------------------------------------------------------------------+---------+\n",
            "|  8 | Freida Mcfadden                         | The Housemaid's Secret                                             |   15    |\n",
            "+----+-----------------------------------------+--------------------------------------------------------------------+---------+\n",
            "|  9 | DOLLY ALDERTON                          | Everything I Know About Love: A Memoir                             |   17.56 |\n",
            "+----+-----------------------------------------+--------------------------------------------------------------------+---------+\n",
            "| 10 | Riley Sager                             | The Only One Left                                                  |   18.71 |\n",
            "+----+-----------------------------------------+--------------------------------------------------------------------+---------+\n",
            "| 11 | Colleen Hoover                          | Too Late: Definitive Edition                                       |   17.49 |\n",
            "+----+-----------------------------------------+--------------------------------------------------------------------+---------+\n",
            "| 12 | Jennifer L. Armentrout                  | A Soul of Ash and Blood Indigo Exclusive: A Blood and Ash Novel    |   24.99 |\n",
            "+----+-----------------------------------------+--------------------------------------------------------------------+---------+\n",
            "| 13 | Ali Hazelwood                           | Love, Theoretically                                                |   18.4  |\n",
            "+----+-----------------------------------------+--------------------------------------------------------------------+---------+\n",
            "| 14 | Jennette Mccurdy                        | I'm Glad My Mom Died                                               |   26.43 |\n",
            "+----+-----------------------------------------+--------------------------------------------------------------------+---------+\n",
            "| 15 | Brianna Wiest                           | The Pivot Year                                                     |   20    |\n",
            "+----+-----------------------------------------+--------------------------------------------------------------------+---------+\n",
            "| 16 | TAYLOR JENKINS REID                     | Daisy Jones & The Six: A Novel                                     |   15    |\n",
            "+----+-----------------------------------------+--------------------------------------------------------------------+---------+\n",
            "| 17 | Joanna Gaines                           | Magnolia table volume 3: A Collection of Recipes for Gathering     |   50    |\n",
            "+----+-----------------------------------------+--------------------------------------------------------------------+---------+\n",
            "| 18 | Stephen King                            | Fairy Tale                                                         |   21.6  |\n",
            "+----+-----------------------------------------+--------------------------------------------------------------------+---------+\n",
            "| 19 | Ruth Ware                               | Zero Days                                                          |   18.89 |\n",
            "+----+-----------------------------------------+--------------------------------------------------------------------+---------+\n",
            "| 20 | Prince Prince Harry, The Duke of Sussex | Spare                                                              |   28.2  |\n",
            "+----+-----------------------------------------+--------------------------------------------------------------------+---------+\n",
            "| 21 | Mercedes Ron                            | My Fault                                                           |   15.22 |\n",
            "+----+-----------------------------------------+--------------------------------------------------------------------+---------+\n",
            "| 22 | Naoya Matsumoto                         | Kaiju No. 8, Vol. 7                                                |   12.99 |\n",
            "+----+-----------------------------------------+--------------------------------------------------------------------+---------+\n",
            "| 23 | Matthew Perry                           | Friends, Lovers, and the Big Terrible Thing: A Memoir              |   27.49 |\n",
            "+----+-----------------------------------------+--------------------------------------------------------------------+---------+\n"
          ]
        }
      ]
    },
    {
      "cell_type": "markdown",
      "source": [],
      "metadata": {
        "id": "apq0oslu2q6m"
      }
    },
    {
      "cell_type": "code",
      "source": [],
      "metadata": {
        "id": "P6jPx5QHxwn9"
      },
      "execution_count": null,
      "outputs": []
    }
  ]
}